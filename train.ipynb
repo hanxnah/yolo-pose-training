from ultralytics import YOLO

# 모델 불러오기 (또는 새로 학습하려면 'yolov8n-pose.yaml' 같은 config로 초기화)
model = YOLO("yolov8n-pose.pt")

# 학습 시작
model.train(data="your_dataset.yaml", epochs=50, imgsz=640)
